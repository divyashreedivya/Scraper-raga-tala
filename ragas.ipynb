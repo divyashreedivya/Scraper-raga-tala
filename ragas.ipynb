{
 "metadata": {
  "language_info": {
   "codemirror_mode": {
    "name": "ipython",
    "version": 3
   },
   "file_extension": ".py",
   "mimetype": "text/x-python",
   "name": "python",
   "nbconvert_exporter": "python",
   "pygments_lexer": "ipython3",
   "version": "3.8.2-final"
  },
  "orig_nbformat": 2,
  "kernelspec": {
   "name": "python3",
   "display_name": "Python 3",
   "language": "python"
  }
 },
 "nbformat": 4,
 "nbformat_minor": 2,
 "cells": [
  {
   "cell_type": "code",
   "execution_count": 1,
   "metadata": {},
   "outputs": [],
   "source": [
    "import urllib.request\n",
    "url = \"https://en.wikipedia.org/wiki/List_of_Janya_ragas\""
   ]
  },
  {
   "cell_type": "code",
   "execution_count": 2,
   "metadata": {},
   "outputs": [],
   "source": [
    "page = urllib.request.urlopen(url)"
   ]
  },
  {
   "cell_type": "code",
   "execution_count": 3,
   "metadata": {
    "tags": []
   },
   "outputs": [],
   "source": [
    "from bs4 import BeautifulSoup\n",
    "soup = BeautifulSoup(page, 'html.parser')\n",
    "#print(soup.prettify())"
   ]
  },
  {
   "cell_type": "code",
   "execution_count": 4,
   "metadata": {},
   "outputs": [],
   "source": [
    "soup =soup.find_all('table',class_='wikitable')"
   ]
  },
  {
   "cell_type": "code",
   "execution_count": 12,
   "metadata": {},
   "outputs": [],
   "source": [
    "names = []\n",
    "arohanas = []\n",
    "avarohanas = []\n",
    "\n",
    "for table in soup:\n",
    "    rows = table.find_all('tr')\n",
    "    for row in rows:\n",
    "        cells = row.find_all('td')\n",
    "\n",
    "        if len(cells)>1:\n",
    "            name = cells[0]\n",
    "            names.append(name.text.strip())\n",
    "            arohana = cells[1]\n",
    "            arohanas.append(arohana.text.strip())\n",
    "            avarohana = cells[2]\n",
    "            avarohanas.append(avarohana.text.strip())"
   ]
  },
  {
   "cell_type": "code",
   "execution_count": 13,
   "metadata": {},
   "outputs": [
    {
     "output_type": "execute_result",
     "data": {
      "text/plain": [
       "'1 Kanakangi(Janaka raga)'"
      ]
     },
     "metadata": {},
     "execution_count": 13
    }
   ],
   "source": [
    "import unicodedata\n",
    "ragas = []\n",
    "for name in names:\n",
    "    raga = unicodedata.normalize('NFKD',name).encode('ascii','ignore').decode('utf-8')\n",
    "    ragas.append(raga)\n",
    "ragas[0]    "
   ]
  },
  {
   "cell_type": "code",
   "execution_count": 14,
   "metadata": {},
   "outputs": [],
   "source": [
    "arohanas_clean = []\n",
    "for i in arohanas:\n",
    "    i = i.split('\\xa0')\n",
    "    i = ' '.join(i)\n",
    "    i = unicodedata.normalize('NFKD',i).encode('ascii','ignore').decode('utf-8')\n",
    "    arohanas_clean.append(i)"
   ]
  },
  {
   "cell_type": "code",
   "execution_count": 15,
   "metadata": {},
   "outputs": [],
   "source": [
    "avarohanas_clean = []\n",
    "for i in avarohanas:\n",
    "    i = i.split('\\xa0')\n",
    "    i = ' '.join(i)\n",
    "    i = unicodedata.normalize('NFKD',i).encode('ascii','ignore').decode('utf-8')\n",
    "    avarohanas_clean.append(i)"
   ]
  },
  {
   "cell_type": "code",
   "execution_count": 16,
   "metadata": {},
   "outputs": [
    {
     "output_type": "execute_result",
     "data": {
      "text/plain": [
       "                       Raga                Arohanam            Avarohanam\n",
       "0  1 Kanakangi(Janaka raga)    S R1 G1 M1 P D1 N1 S  S N1 D1 P M1 G1 R1 S\n",
       "1               Kanakambari          S R1 M1 P D1 S  S N1 D1 P M1 G1 R1 S\n",
       "2                Kanakatodi       S R1 G1 M1 P D1 S     S N1 D1 P M1 R1 S\n",
       "3              Madhavapriya       S R1 G1 P D1 N1 S     S N1 D1 P G1 R1 S\n",
       "4  Karnataka Shuddha Saveri          S R1 M1 P D1 S        S D1 P M1 R1 S\n",
       "5              Latantapriya       S R1 G1 M1 P D1 S        S D1 P M1 R1 S\n",
       "6                   Lavangi            S R1 M1 D1 S          S D1 M1 R1 S\n",
       "7                     Megha  S R1 M1 P D1 N1 D1 P S     S N1 D1 P M1 R1 S\n",
       "8            Rishabhavilasa          S R1 M1 P D1 S  S D1 P M1 R1 M1 R1 S\n",
       "9                Sarvashree                S M1 P S              S P M1 S"
      ],
      "text/html": "<div>\n<style scoped>\n    .dataframe tbody tr th:only-of-type {\n        vertical-align: middle;\n    }\n\n    .dataframe tbody tr th {\n        vertical-align: top;\n    }\n\n    .dataframe thead th {\n        text-align: right;\n    }\n</style>\n<table border=\"1\" class=\"dataframe\">\n  <thead>\n    <tr style=\"text-align: right;\">\n      <th></th>\n      <th>Raga</th>\n      <th>Arohanam</th>\n      <th>Avarohanam</th>\n    </tr>\n  </thead>\n  <tbody>\n    <tr>\n      <th>0</th>\n      <td>1 Kanakangi(Janaka raga)</td>\n      <td>S R1 G1 M1 P D1 N1 S</td>\n      <td>S N1 D1 P M1 G1 R1 S</td>\n    </tr>\n    <tr>\n      <th>1</th>\n      <td>Kanakambari</td>\n      <td>S R1 M1 P D1 S</td>\n      <td>S N1 D1 P M1 G1 R1 S</td>\n    </tr>\n    <tr>\n      <th>2</th>\n      <td>Kanakatodi</td>\n      <td>S R1 G1 M1 P D1 S</td>\n      <td>S N1 D1 P M1 R1 S</td>\n    </tr>\n    <tr>\n      <th>3</th>\n      <td>Madhavapriya</td>\n      <td>S R1 G1 P D1 N1 S</td>\n      <td>S N1 D1 P G1 R1 S</td>\n    </tr>\n    <tr>\n      <th>4</th>\n      <td>Karnataka Shuddha Saveri</td>\n      <td>S R1 M1 P D1 S</td>\n      <td>S D1 P M1 R1 S</td>\n    </tr>\n    <tr>\n      <th>5</th>\n      <td>Latantapriya</td>\n      <td>S R1 G1 M1 P D1 S</td>\n      <td>S D1 P M1 R1 S</td>\n    </tr>\n    <tr>\n      <th>6</th>\n      <td>Lavangi</td>\n      <td>S R1 M1 D1 S</td>\n      <td>S D1 M1 R1 S</td>\n    </tr>\n    <tr>\n      <th>7</th>\n      <td>Megha</td>\n      <td>S R1 M1 P D1 N1 D1 P S</td>\n      <td>S N1 D1 P M1 R1 S</td>\n    </tr>\n    <tr>\n      <th>8</th>\n      <td>Rishabhavilasa</td>\n      <td>S R1 M1 P D1 S</td>\n      <td>S D1 P M1 R1 M1 R1 S</td>\n    </tr>\n    <tr>\n      <th>9</th>\n      <td>Sarvashree</td>\n      <td>S M1 P S</td>\n      <td>S P M1 S</td>\n    </tr>\n  </tbody>\n</table>\n</div>"
     },
     "metadata": {},
     "execution_count": 16
    }
   ],
   "source": [
    "import pandas as pd\n",
    "df = pd.DataFrame(ragas,columns=['Raga'])\n",
    "df['Arohanam'] = arohanas_clean\n",
    "df['Avarohanam'] = avarohanas_clean\n",
    "df.head(10)\n",
    "#print(len(names))\n",
    "#print(len(arohanas_clean))\n",
    "#print(len(avarohanas_clean))"
   ]
  },
  {
   "cell_type": "code",
   "execution_count": 17,
   "metadata": {},
   "outputs": [],
   "source": [
    "df.to_csv('ragas.csv')"
   ]
  },
  {
   "cell_type": "code",
   "execution_count": null,
   "metadata": {},
   "outputs": [],
   "source": []
  }
 ]
}