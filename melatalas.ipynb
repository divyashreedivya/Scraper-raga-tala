{
 "metadata": {
  "language_info": {
   "codemirror_mode": {
    "name": "ipython",
    "version": 3
   },
   "file_extension": ".py",
   "mimetype": "text/x-python",
   "name": "python",
   "nbconvert_exporter": "python",
   "pygments_lexer": "ipython3",
   "version": "3.8.2-final"
  },
  "orig_nbformat": 2,
  "kernelspec": {
   "name": "python3",
   "display_name": "Python 3",
   "language": "python"
  }
 },
 "nbformat": 4,
 "nbformat_minor": 2,
 "cells": [
  {
   "cell_type": "code",
   "execution_count": 1,
   "metadata": {},
   "outputs": [],
   "source": [
    "import urllib.request\n",
    "url = \"https://en.wikipedia.org/wiki/Tala_(music)\""
   ]
  },
  {
   "cell_type": "code",
   "execution_count": 2,
   "metadata": {},
   "outputs": [],
   "source": [
    "page = urllib.request.urlopen(url)"
   ]
  },
  {
   "cell_type": "code",
   "execution_count": 3,
   "metadata": {},
   "outputs": [],
   "source": [
    "from bs4 import BeautifulSoup\n",
    "soup = BeautifulSoup(page,'html.parser')"
   ]
  },
  {
   "cell_type": "code",
   "execution_count": 4,
   "metadata": {},
   "outputs": [],
   "source": [
    "soup = soup.find_all('table',class_='wikitable')[4]"
   ]
  },
  {
   "cell_type": "code",
   "execution_count": 5,
   "metadata": {},
   "outputs": [],
   "source": [
    "from bs4 import NavigableString\n",
    "names= []\n",
    "angas = []\n",
    "aksharas = []\n",
    "category = []\n",
    "\n",
    "for table in soup:\n",
    "    if isinstance(table,NavigableString):\n",
    "        continue\n",
    "\n",
    "    rows = table.find_all('tr')\n",
    "    for row in rows:\n",
    "        cells = row.find_all('td')\n",
    "        if len(cells)>1:\n",
    "            name = cells[1]\n",
    "            names.append(name.text.strip())\n",
    "            anga = cells[2]\n",
    "            angas.append(anga.text.strip())\n",
    "            akshara = cells[3]\n",
    "            aksharas.append(akshara.text.strip())\n",
    "            category.append('72 Melakarta talas')\n"
   ]
  },
  {
   "cell_type": "code",
   "execution_count": 6,
   "metadata": {},
   "outputs": [
    {
     "output_type": "execute_result",
     "data": {
      "text/plain": [
       "['Kanakaangi',\n",
       " 'Rathnaangi',\n",
       " 'Ganamurthi',\n",
       " 'Vanaspathi',\n",
       " 'Maanavathi',\n",
       " 'Dhanarupi',\n",
       " 'Senaavathi',\n",
       " 'Hanumathodi',\n",
       " 'Dhenuka',\n",
       " 'Natakapriya',\n",
       " 'Kokilapriya',\n",
       " 'Rupaavathi',\n",
       " 'Gayakapriya',\n",
       " 'Vagula bharanam',\n",
       " 'Maya malava goulam',\n",
       " 'Chakravaham',\n",
       " 'Suryakantham',\n",
       " 'Haata kambari',\n",
       " 'Jankaradh wani',\n",
       " 'Nata bhairavi',\n",
       " 'Keeravani',\n",
       " 'Karahara priya',\n",
       " 'Gowri manohari',\n",
       " 'Varuna priya',\n",
       " 'Maara ranjani',\n",
       " 'Charukesi',\n",
       " 'Sarasaangi',\n",
       " 'Harikamboji',\n",
       " 'Dheera sankara bharanam',\n",
       " 'Nagaa nandhini',\n",
       " 'Yagapriya',\n",
       " 'Raga vardhini',\n",
       " 'Gangeya bhushani',\n",
       " 'Vaga dheeshwari',\n",
       " 'Soolini',\n",
       " 'Chala Naata',\n",
       " 'Chalagam',\n",
       " 'Jalaarnavam',\n",
       " 'Jaalavarali',\n",
       " 'Navaneetham',\n",
       " 'Paavani',\n",
       " 'Raghupriya',\n",
       " 'Kavaambothi',\n",
       " 'Bhavapriya',\n",
       " 'Subha panthuvarali',\n",
       " 'Shadvitha maargini',\n",
       " 'Swarnaangi',\n",
       " 'Divyamani',\n",
       " 'Davalaambari',\n",
       " 'Naama narayani',\n",
       " 'Kaamavartha',\n",
       " 'Raamapriya',\n",
       " 'Gamanashrama',\n",
       " 'Viswambari',\n",
       " 'Syamalangi',\n",
       " 'Shanmukha priya',\n",
       " 'Simhendra madhyamam',\n",
       " 'Hemaavathi',\n",
       " 'Dharmavathi',\n",
       " 'Neethimathi',\n",
       " 'Kaanthamani',\n",
       " 'Rishabhapriya',\n",
       " 'Lathaangi',\n",
       " 'Vachaspathi',\n",
       " 'Mecha Kalyani',\n",
       " 'Chithraambari',\n",
       " 'Sucharithra',\n",
       " 'Jyothi swarupini',\n",
       " 'Dathuvardhani',\n",
       " 'Naasikha bhushani',\n",
       " 'Kosalam',\n",
       " 'Rasikapriya']"
      ]
     },
     "metadata": {},
     "execution_count": 6
    }
   ],
   "source": [
    "names.pop(0)\n",
    "names"
   ]
  },
  {
   "cell_type": "code",
   "execution_count": 7,
   "metadata": {},
   "outputs": [
    {
     "output_type": "execute_result",
     "data": {
      "text/plain": [
       "'72 Melakarta talas'"
      ]
     },
     "metadata": {},
     "execution_count": 7
    }
   ],
   "source": [
    "angas.pop(0)\n",
    "aksharas.pop(0)\n",
    "category.pop(0)"
   ]
  },
  {
   "cell_type": "code",
   "execution_count": 8,
   "metadata": {},
   "outputs": [
    {
     "output_type": "execute_result",
     "data": {
      "text/plain": [
       "          Tala                                              Angas Aksharas  \\\n",
       "0   Kanakaangi           1 Anudhrutha, 1 Dhrutha, 1 Guru, 1 Laghu       15   \n",
       "1   Rathnaangi  1 Guru, 1 Anudhrutha, 1 Laghu, 1 Dhrutha Sekar...       20   \n",
       "2   Ganamurthi  1 Laghu, 2 Anudhruthas, 1 Laghu, 1 Dhrutha Sek...       22   \n",
       "3   Vanaspathi  1 Laghu, 2 Anudhruthas, 1 Guru, 1 Anudhrutha, ...       22   \n",
       "4   Maanavathi  1 Laghu, 1 Dhrutha Sekara Viraamam, 1 Anudhrut...       20   \n",
       "5    Dhanarupi           1 Guru, 1 Anudhrutha, 1 Laghu, 1 Dhritha       15   \n",
       "6   Senaavathi  1 Gurus, 1 Dhrutha Sekara Viraamam, 1 Dhrutha,...       25   \n",
       "7  Hanumathodi  1 Guru, 2 Anudhruthas, 1 Laghu, 1 Dhrutha, 1 P...       34   \n",
       "8      Dhenuka                  1 Pluta, 2 Anudhruthas, 1 Dhrutha       16   \n",
       "9  Natakapriya                     3 Dhruthas, 1 Laghu, 1 Dhrutha       12   \n",
       "\n",
       "             Category  \n",
       "0  72 Melakarta talas  \n",
       "1  72 Melakarta talas  \n",
       "2  72 Melakarta talas  \n",
       "3  72 Melakarta talas  \n",
       "4  72 Melakarta talas  \n",
       "5  72 Melakarta talas  \n",
       "6  72 Melakarta talas  \n",
       "7  72 Melakarta talas  \n",
       "8  72 Melakarta talas  \n",
       "9  72 Melakarta talas  "
      ],
      "text/html": "<div>\n<style scoped>\n    .dataframe tbody tr th:only-of-type {\n        vertical-align: middle;\n    }\n\n    .dataframe tbody tr th {\n        vertical-align: top;\n    }\n\n    .dataframe thead th {\n        text-align: right;\n    }\n</style>\n<table border=\"1\" class=\"dataframe\">\n  <thead>\n    <tr style=\"text-align: right;\">\n      <th></th>\n      <th>Tala</th>\n      <th>Angas</th>\n      <th>Aksharas</th>\n      <th>Category</th>\n    </tr>\n  </thead>\n  <tbody>\n    <tr>\n      <th>0</th>\n      <td>Kanakaangi</td>\n      <td>1 Anudhrutha, 1 Dhrutha, 1 Guru, 1 Laghu</td>\n      <td>15</td>\n      <td>72 Melakarta talas</td>\n    </tr>\n    <tr>\n      <th>1</th>\n      <td>Rathnaangi</td>\n      <td>1 Guru, 1 Anudhrutha, 1 Laghu, 1 Dhrutha Sekar...</td>\n      <td>20</td>\n      <td>72 Melakarta talas</td>\n    </tr>\n    <tr>\n      <th>2</th>\n      <td>Ganamurthi</td>\n      <td>1 Laghu, 2 Anudhruthas, 1 Laghu, 1 Dhrutha Sek...</td>\n      <td>22</td>\n      <td>72 Melakarta talas</td>\n    </tr>\n    <tr>\n      <th>3</th>\n      <td>Vanaspathi</td>\n      <td>1 Laghu, 2 Anudhruthas, 1 Guru, 1 Anudhrutha, ...</td>\n      <td>22</td>\n      <td>72 Melakarta talas</td>\n    </tr>\n    <tr>\n      <th>4</th>\n      <td>Maanavathi</td>\n      <td>1 Laghu, 1 Dhrutha Sekara Viraamam, 1 Anudhrut...</td>\n      <td>20</td>\n      <td>72 Melakarta talas</td>\n    </tr>\n    <tr>\n      <th>5</th>\n      <td>Dhanarupi</td>\n      <td>1 Guru, 1 Anudhrutha, 1 Laghu, 1 Dhritha</td>\n      <td>15</td>\n      <td>72 Melakarta talas</td>\n    </tr>\n    <tr>\n      <th>6</th>\n      <td>Senaavathi</td>\n      <td>1 Gurus, 1 Dhrutha Sekara Viraamam, 1 Dhrutha,...</td>\n      <td>25</td>\n      <td>72 Melakarta talas</td>\n    </tr>\n    <tr>\n      <th>7</th>\n      <td>Hanumathodi</td>\n      <td>1 Guru, 2 Anudhruthas, 1 Laghu, 1 Dhrutha, 1 P...</td>\n      <td>34</td>\n      <td>72 Melakarta talas</td>\n    </tr>\n    <tr>\n      <th>8</th>\n      <td>Dhenuka</td>\n      <td>1 Pluta, 2 Anudhruthas, 1 Dhrutha</td>\n      <td>16</td>\n      <td>72 Melakarta talas</td>\n    </tr>\n    <tr>\n      <th>9</th>\n      <td>Natakapriya</td>\n      <td>3 Dhruthas, 1 Laghu, 1 Dhrutha</td>\n      <td>12</td>\n      <td>72 Melakarta talas</td>\n    </tr>\n  </tbody>\n</table>\n</div>"
     },
     "metadata": {},
     "execution_count": 8
    }
   ],
   "source": [
    "import pandas as pd \n",
    "df= pd.DataFrame(names,columns=['Tala'])\n",
    "df['Angas'] = angas\n",
    "df['Aksharas'] = aksharas\n",
    "df['Category'] = category\n",
    "df.head(10)"
   ]
  },
  {
   "cell_type": "code",
   "execution_count": 37,
   "metadata": {},
   "outputs": [],
   "source": [
    "df.to_csv('talas.csv',mode='a',header=False)"
   ]
  },
  {
   "cell_type": "code",
   "execution_count": null,
   "metadata": {},
   "outputs": [],
   "source": []
  }
 ]
}